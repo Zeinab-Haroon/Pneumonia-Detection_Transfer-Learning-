{
  "nbformat": 4,
  "nbformat_minor": 0,
  "metadata": {
    "kernelspec": {
      "name": "python3",
      "display_name": "Python 3"
    },
    "language_info": {
      "codemirror_mode": {
        "name": "ipython",
        "version": 3
      },
      "file_extension": ".py",
      "mimetype": "text/x-python",
      "name": "python",
      "nbconvert_exporter": "python",
      "pygments_lexer": "ipython3",
      "version": "3.7.3"
    },
    "colab": {
      "name": "PneumoniaDetection_chest-xray-pneumoniaData.ipynb",
      "provenance": [],
      "collapsed_sections": []
    },
    "accelerator": "GPU"
  },
  "cells": [
    {
      "cell_type": "markdown",
      "metadata": {
        "id": "EK25d5A4fb1f",
        "colab_type": "text"
      },
      "source": [
        "## Computer vision\n",
        "\n",
        "### Content\n",
        "\n",
        "The dataset is organized into 3 folders (train, test, val) and contains subfolders for each image category (Pneumonia/Normal). There are 5,863 X-Ray images (JPEG) and 2 categories (Pneumonia/Normal).\n",
        "\n",
        "Chest X-ray images (anterior-posterior) were selected from retrospective cohorts of pediatric patients of one to five years old from Guangzhou Women and Children’s Medical Center, Guangzhou. All chest X-ray imaging was performed as part of patients’ routine clinical care.\n",
        "\n",
        "For the analysis of chest x-ray images, all chest radiographs were initially screened for quality control by removing all low quality or unreadable scans. The diagnoses for the images were then graded by two expert physicians before being cleared for training the AI system. In order to account for any grading errors, the evaluation set was also checked by a third expert.\n",
        "\n",
        "## Task\n",
        "Identify whether the patient is suffering from pneumonia or not by looking at chest-X-ray images."
      ]
    },
    {
      "cell_type": "code",
      "metadata": {
        "id": "AphjnzEqf6a1",
        "colab_type": "code",
        "colab": {}
      },
      "source": [
        "from google.colab import drive\n",
        "drive.mount('/content/drive')"
      ],
      "execution_count": 0,
      "outputs": []
    },
    {
      "cell_type": "code",
      "metadata": {
        "id": "vwGCsIhIh5_D",
        "colab_type": "code",
        "colab": {}
      },
      "source": [
        "!wget --load-cookies '/content/drive/My Drive/Projects/cookies.txt' -O dataset.zip https://www.kaggle.com/paultimothymooney/chest-xray-pneumonia/download\n",
        "!unzip dataset.zip"
      ],
      "execution_count": 0,
      "outputs": []
    },
    {
      "cell_type": "code",
      "metadata": {
        "id": "9nZ-CfWWfb1j",
        "colab_type": "code",
        "colab": {}
      },
      "source": [
        "import os \n",
        "import random\n",
        "import pandas as pd\n",
        "import numpy as np\n",
        "import tensorflow as tf\n",
        "from tensorflow import keras\n",
        "from keras import layers,Sequential\n",
        "import matplotlib.pyplot as plt\n",
        "from keras.preprocessing.image import ImageDataGenerator\n"
      ],
      "execution_count": 0,
      "outputs": []
    },
    {
      "cell_type": "code",
      "metadata": {
        "id": "P7oQD8X2fb1n",
        "colab_type": "code",
        "outputId": "ce78ff58-ffc8-4076-935f-167396f9e8ff",
        "colab": {
          "base_uri": "https://localhost:8080/",
          "height": 69
        }
      },
      "source": [
        "#define seperate generator for the train,test and validation set\n",
        "#the generator come with an entire suite of preprocessing steps, we used 'rescale factor 1/255.0'\n",
        "#in generator we specify that the target size is (64x64)-pixels for each image and the colour mode is grayscale\n",
        "#dividing by 255.0 to normalize the data which allows the classifier to converge faster.\n",
        "#normalization techniques are: (divide the pixels by 255.0 'scaling') or (transform the data into a standard normal distribution to center it).\n",
        "#using deep-learning (CNN) for image classification\n",
        "\n",
        "from keras.preprocessing.image import ImageDataGenerator\n",
        "IMG_SIZE = (224, 224)\n",
        "train_datagen = ImageDataGenerator(samplewise_center=True, \n",
        "                              samplewise_std_normalization=True, \n",
        "                              horizontal_flip = True, \n",
        "                              vertical_flip = True, \n",
        "                              height_shift_range= 0.05, \n",
        "                              width_shift_range=0.1, \n",
        "                              rotation_range=5, \n",
        "                              shear_range = 0.1,\n",
        "                              fill_mode = 'reflect',\n",
        "                              zoom_range=0.15)\n",
        "test_datagen = ImageDataGenerator(samplewise_center=True, \n",
        "                              samplewise_std_normalization=True, \n",
        "                             )\n",
        "\n",
        "train_generator = datagen.flow_from_directory(\n",
        "        '/content/chest_xray/chest_xray/train',\n",
        "        target_size=IMG_SIZE,\n",
        "        color_mode = 'grayscale',\n",
        "        batch_size=32,\n",
        "        class_mode='binary')\n",
        "\n",
        "val_generator = test_datagen.flow_from_directory(\n",
        "        '/content/chest_xray/chest_xray/val',\n",
        "        target_size=IMG_SIZE,\n",
        "        color_mode = 'grayscale',\n",
        "        batch_size=32,\n",
        "        class_mode='binary')\n",
        "\n",
        "test_generator = test_datagen.flow_from_directory(\n",
        "        '/content/chest_xray/chest_xray/test',\n",
        "        target_size=IMG_SIZE,\n",
        "        color_mode = 'grayscale',\n",
        "        batch_size=32,\n",
        "        class_mode='binary')\n",
        "\n",
        "#The data is small in general whereby we need to use tranfer Learning (Pre-trained models). the validation-set that is used for testing is quite so small to generalize on.\n",
        "# the data is small, yet it is complex to extract information using CNN, unlike mnist-data that is huge but less infromation to be extracted per image where CNN gives better performance"
      ],
      "execution_count": 34,
      "outputs": [
        {
          "output_type": "stream",
          "text": [
            "Found 5216 images belonging to 2 classes.\n",
            "Found 16 images belonging to 2 classes.\n",
            "Found 624 images belonging to 2 classes.\n"
          ],
          "name": "stdout"
        }
      ]
    },
    {
      "cell_type": "code",
      "metadata": {
        "id": "9o6B21QdSUJr",
        "colab_type": "code",
        "colab": {}
      },
      "source": [
        "#display the image \n",
        "image_batch, label_batch = next(train_generator)\n",
        "#plt.imshow(image_batch[0].reshape(64,64))\n",
        "#plt.show()"
      ],
      "execution_count": 0,
      "outputs": []
    },
    {
      "cell_type": "code",
      "metadata": {
        "colab_type": "code",
        "outputId": "8b29a269-99e8-4bb3-9f9d-65ecbdc72a1c",
        "id": "BR-kB-RN7hDk",
        "colab": {
          "base_uri": "https://localhost:8080/",
          "height": 35
        }
      },
      "source": [
        "image_batch.shape"
      ],
      "execution_count": 36,
      "outputs": [
        {
          "output_type": "execute_result",
          "data": {
            "text/plain": [
              "(32, 224, 224, 1)"
            ]
          },
          "metadata": {
            "tags": []
          },
          "execution_count": 36
        }
      ]
    },
    {
      "cell_type": "code",
      "metadata": {
        "id": "WHv_iuuXfb1s",
        "colab_type": "code",
        "colab": {}
      },
      "source": [
        "#CNN: Create Sequential model\n",
        "tfkl = tf.keras.layers"
      ],
      "execution_count": 0,
      "outputs": []
    },
    {
      "cell_type": "code",
      "metadata": {
        "id": "qX_YODB-fb1v",
        "colab_type": "code",
        "colab": {}
      },
      "source": [
        "from tensorflow.keras.models import Sequential\n",
        "from tensorflow.keras.layers import Conv2D, MaxPooling2D, Dense, Dropout, Input, Flatten, SeparableConv2D\n",
        "from tensorflow.keras.layers import GlobalMaxPooling2D\n",
        "from tensorflow.keras.layers import BatchNormalization\n",
        "from tensorflow.keras.layers import Concatenate\n",
        "from tensorflow.keras.models import Model\n",
        "\n",
        "def build_model():\n",
        "    input_img = Input(shape=(224,224,1), name='ImageInput')\n",
        "    x = Conv2D(64, (3,3), activation='relu', padding='same', name='Conv1_1')(input_img)\n",
        "    x = Conv2D(64, (3,3), activation='relu', padding='same', name='Conv1_2')(x)\n",
        "    x = MaxPooling2D((2,2), name='pool1')(x)\n",
        "    \n",
        "    x = SeparableConv2D(128, (3,3), activation='relu', padding='same', name='Conv2_1')(x)\n",
        "    x = SeparableConv2D(128, (3,3), activation='relu', padding='same', name='Conv2_2')(x)\n",
        "    x = MaxPooling2D((2,2), name='pool2')(x)\n",
        "    \n",
        "    x = SeparableConv2D(256, (3,3), activation='relu', padding='same', name='Conv3_1')(x)\n",
        "    x = BatchNormalization(name='bn1')(x)\n",
        "    x = SeparableConv2D(256, (3,3), activation='relu', padding='same', name='Conv3_2')(x)\n",
        "    x = BatchNormalization(name='bn2')(x)\n",
        "    x = SeparableConv2D(256, (3,3), activation='relu', padding='same', name='Conv3_3')(x)\n",
        "    x = MaxPooling2D((2,2), name='pool3')(x)\n",
        "    \n",
        "    x = SeparableConv2D(512, (3,3), activation='relu', padding='same', name='Conv4_1')(x)\n",
        "    x = BatchNormalization(name='bn3')(x)\n",
        "    x = SeparableConv2D(512, (3,3), activation='relu', padding='same', name='Conv4_2')(x)\n",
        "    x = BatchNormalization(name='bn4')(x)\n",
        "    x = SeparableConv2D(512, (3,3), activation='relu', padding='same', name='Conv4_3')(x)\n",
        "    x = MaxPooling2D((2,2), name='pool4')(x)\n",
        "    \n",
        "    x = Flatten(name='flatten')(x)\n",
        "    x = Dense(1024, activation='relu', name='fc1')(x)\n",
        "    x = Dropout(0.7, name='dropout1')(x)\n",
        "    x = Dense(512, activation='relu', name='fc2')(x)\n",
        "    x = Dropout(0.5, name='dropout2')(x)\n",
        "    x = Dense(1, activation='sigmoid', name='fc3')(x)\n",
        "    \n",
        "    model = Model(inputs=input_img, outputs=x)\n",
        "    return model"
      ],
      "execution_count": 0,
      "outputs": []
    },
    {
      "cell_type": "code",
      "metadata": {
        "id": "Ks0hq-KYlWZx",
        "colab_type": "code",
        "outputId": "d4d9d786-3c97-440b-baf2-012d0a34e0ee",
        "colab": {
          "base_uri": "https://localhost:8080/",
          "height": 1000
        }
      },
      "source": [
        "model =  build_model()\n",
        "model.summary()"
      ],
      "execution_count": 40,
      "outputs": [
        {
          "output_type": "stream",
          "text": [
            "WARNING:tensorflow:Large dropout rate: 0.7 (>0.5). In TensorFlow 2.x, dropout() uses dropout rate instead of keep_prob. Please ensure that this is intended.\n",
            "Model: \"model_1\"\n",
            "_________________________________________________________________\n",
            "Layer (type)                 Output Shape              Param #   \n",
            "=================================================================\n",
            "ImageInput (InputLayer)      [(None, 224, 224, 1)]     0         \n",
            "_________________________________________________________________\n",
            "Conv1_1 (Conv2D)             (None, 224, 224, 64)      640       \n",
            "_________________________________________________________________\n",
            "Conv1_2 (Conv2D)             (None, 224, 224, 64)      36928     \n",
            "_________________________________________________________________\n",
            "pool1 (MaxPooling2D)         (None, 112, 112, 64)      0         \n",
            "_________________________________________________________________\n",
            "Conv2_1 (SeparableConv2D)    (None, 112, 112, 128)     8896      \n",
            "_________________________________________________________________\n",
            "Conv2_2 (SeparableConv2D)    (None, 112, 112, 128)     17664     \n",
            "_________________________________________________________________\n",
            "pool2 (MaxPooling2D)         (None, 56, 56, 128)       0         \n",
            "_________________________________________________________________\n",
            "Conv3_1 (SeparableConv2D)    (None, 56, 56, 256)       34176     \n",
            "_________________________________________________________________\n",
            "bn1 (BatchNormalization)     (None, 56, 56, 256)       1024      \n",
            "_________________________________________________________________\n",
            "Conv3_2 (SeparableConv2D)    (None, 56, 56, 256)       68096     \n",
            "_________________________________________________________________\n",
            "bn2 (BatchNormalization)     (None, 56, 56, 256)       1024      \n",
            "_________________________________________________________________\n",
            "Conv3_3 (SeparableConv2D)    (None, 56, 56, 256)       68096     \n",
            "_________________________________________________________________\n",
            "pool3 (MaxPooling2D)         (None, 28, 28, 256)       0         \n",
            "_________________________________________________________________\n",
            "Conv4_1 (SeparableConv2D)    (None, 28, 28, 512)       133888    \n",
            "_________________________________________________________________\n",
            "bn3 (BatchNormalization)     (None, 28, 28, 512)       2048      \n",
            "_________________________________________________________________\n",
            "Conv4_2 (SeparableConv2D)    (None, 28, 28, 512)       267264    \n",
            "_________________________________________________________________\n",
            "bn4 (BatchNormalization)     (None, 28, 28, 512)       2048      \n",
            "_________________________________________________________________\n",
            "Conv4_3 (SeparableConv2D)    (None, 28, 28, 512)       267264    \n",
            "_________________________________________________________________\n",
            "pool4 (MaxPooling2D)         (None, 14, 14, 512)       0         \n",
            "_________________________________________________________________\n",
            "flatten (Flatten)            (None, 100352)            0         \n",
            "_________________________________________________________________\n",
            "fc1 (Dense)                  (None, 1024)              102761472 \n",
            "_________________________________________________________________\n",
            "dropout1 (Dropout)           (None, 1024)              0         \n",
            "_________________________________________________________________\n",
            "fc2 (Dense)                  (None, 512)               524800    \n",
            "_________________________________________________________________\n",
            "dropout2 (Dropout)           (None, 512)               0         \n",
            "_________________________________________________________________\n",
            "fc3 (Dense)                  (None, 1)                 513       \n",
            "=================================================================\n",
            "Total params: 104,195,841\n",
            "Trainable params: 104,192,769\n",
            "Non-trainable params: 3,072\n",
            "_________________________________________________________________\n"
          ],
          "name": "stdout"
        }
      ]
    },
    {
      "cell_type": "code",
      "metadata": {
        "id": "BfJePLswfb1y",
        "colab_type": "code",
        "colab": {}
      },
      "source": [
        "#Binary crossentropy uses for multi-label classification, categorical crossentropy for multi-class classification\n",
        "model.compile(loss='binary_crossentropy', optimizer='adam', metrics=['accuracy'])"
      ],
      "execution_count": 0,
      "outputs": []
    },
    {
      "cell_type": "markdown",
      "metadata": {
        "id": "t0GBOSWt85ic",
        "colab_type": "text"
      },
      "source": [
        ""
      ]
    },
    {
      "cell_type": "code",
      "metadata": {
        "id": "4i1s5ogyfb12",
        "colab_type": "code",
        "outputId": "b64b8197-a8ec-45c1-83f4-0e272e923e83",
        "colab": {
          "base_uri": "https://localhost:8080/",
          "height": 1000
        }
      },
      "source": [
        "#the validatio loss should be similar to but slightly higher tham training loss\n",
        "history = model.fit_generator(train_generator, epochs =30, validation_data = test_generator, steps_per_epoch=163, validation_steps=20)"
      ],
      "execution_count": 42,
      "outputs": [
        {
          "output_type": "stream",
          "text": [
            "Epoch 1/30\n",
            "162/163 [============================>.] - ETA: 0s - loss: 0.4067 - acc: 0.8221Epoch 1/30\n",
            "163/163 [==============================] - 99s 605ms/step - loss: 0.4062 - acc: 0.8223 - val_loss: 0.8018 - val_acc: 0.6250\n",
            "Epoch 2/30\n",
            "162/163 [============================>.] - ETA: 0s - loss: 0.2473 - acc: 0.9062Epoch 1/30\n",
            "163/163 [==============================] - 94s 574ms/step - loss: 0.2482 - acc: 0.9059 - val_loss: 0.9770 - val_acc: 0.6250\n",
            "Epoch 3/30\n",
            "162/163 [============================>.] - ETA: 0s - loss: 0.2230 - acc: 0.9180Epoch 1/30\n",
            "163/163 [==============================] - 93s 569ms/step - loss: 0.2221 - acc: 0.9183 - val_loss: 0.9566 - val_acc: 0.6250\n",
            "Epoch 4/30\n",
            "162/163 [============================>.] - ETA: 0s - loss: 0.2012 - acc: 0.9273Epoch 1/30\n",
            "163/163 [==============================] - 93s 571ms/step - loss: 0.2023 - acc: 0.9264 - val_loss: 1.5814 - val_acc: 0.6250\n",
            "Epoch 5/30\n",
            "162/163 [============================>.] - ETA: 0s - loss: 0.1876 - acc: 0.9354Epoch 1/30\n",
            "163/163 [==============================] - 93s 568ms/step - loss: 0.1876 - acc: 0.9352 - val_loss: 0.5922 - val_acc: 0.7612\n",
            "Epoch 6/30\n",
            "162/163 [============================>.] - ETA: 0s - loss: 0.1815 - acc: 0.9367Epoch 1/30\n",
            "163/163 [==============================] - 93s 568ms/step - loss: 0.1816 - acc: 0.9367 - val_loss: 0.3992 - val_acc: 0.8061\n",
            "Epoch 7/30\n",
            "162/163 [============================>.] - ETA: 0s - loss: 0.1599 - acc: 0.9402Epoch 1/30\n",
            "163/163 [==============================] - 92s 566ms/step - loss: 0.1597 - acc: 0.9402 - val_loss: 1.1383 - val_acc: 0.7115\n",
            "Epoch 8/30\n",
            "162/163 [============================>.] - ETA: 0s - loss: 0.1631 - acc: 0.9373Epoch 1/30\n",
            "163/163 [==============================] - 92s 562ms/step - loss: 0.1630 - acc: 0.9373 - val_loss: 1.5995 - val_acc: 0.6571\n",
            "Epoch 9/30\n",
            "162/163 [============================>.] - ETA: 0s - loss: 0.1550 - acc: 0.9470Epoch 1/30\n",
            "163/163 [==============================] - 94s 574ms/step - loss: 0.1546 - acc: 0.9473 - val_loss: 0.5717 - val_acc: 0.8093\n",
            "Epoch 10/30\n",
            "162/163 [============================>.] - ETA: 0s - loss: 0.1553 - acc: 0.9448Epoch 1/30\n",
            "163/163 [==============================] - 92s 562ms/step - loss: 0.1553 - acc: 0.9448 - val_loss: 0.5500 - val_acc: 0.8045\n",
            "Epoch 11/30\n",
            "162/163 [============================>.] - ETA: 0s - loss: 0.1498 - acc: 0.9439Epoch 1/30\n",
            "163/163 [==============================] - 92s 565ms/step - loss: 0.1501 - acc: 0.9440 - val_loss: 0.4565 - val_acc: 0.8189\n",
            "Epoch 12/30\n",
            "162/163 [============================>.] - ETA: 0s - loss: 0.1417 - acc: 0.9475Epoch 1/30\n",
            "163/163 [==============================] - 93s 569ms/step - loss: 0.1429 - acc: 0.9465 - val_loss: 0.8959 - val_acc: 0.7676\n",
            "Epoch 13/30\n",
            "162/163 [============================>.] - ETA: 0s - loss: 0.1411 - acc: 0.9481Epoch 1/30\n",
            "163/163 [==============================] - 93s 568ms/step - loss: 0.1420 - acc: 0.9477 - val_loss: 0.3408 - val_acc: 0.8654\n",
            "Epoch 14/30\n",
            "162/163 [============================>.] - ETA: 0s - loss: 0.1419 - acc: 0.9520Epoch 1/30\n",
            "163/163 [==============================] - 92s 566ms/step - loss: 0.1420 - acc: 0.9519 - val_loss: 1.0579 - val_acc: 0.6955\n",
            "Epoch 15/30\n",
            "162/163 [============================>.] - ETA: 0s - loss: 0.1274 - acc: 0.9552Epoch 1/30\n",
            "163/163 [==============================] - 92s 567ms/step - loss: 0.1268 - acc: 0.9555 - val_loss: 1.0131 - val_acc: 0.7356\n",
            "Epoch 16/30\n",
            "162/163 [============================>.] - ETA: 0s - loss: 0.1430 - acc: 0.9481Epoch 1/30\n",
            "163/163 [==============================] - 93s 570ms/step - loss: 0.1428 - acc: 0.9482 - val_loss: 0.3841 - val_acc: 0.8478\n",
            "Epoch 17/30\n",
            "162/163 [============================>.] - ETA: 0s - loss: 0.1317 - acc: 0.9527Epoch 1/30\n",
            "163/163 [==============================] - 93s 568ms/step - loss: 0.1343 - acc: 0.9526 - val_loss: 0.3874 - val_acc: 0.8269\n",
            "Epoch 18/30\n",
            "162/163 [============================>.] - ETA: 0s - loss: 0.1277 - acc: 0.9524Epoch 1/30\n",
            "163/163 [==============================] - 93s 571ms/step - loss: 0.1272 - acc: 0.9525 - val_loss: 0.3532 - val_acc: 0.8750\n",
            "Epoch 19/30\n",
            "162/163 [============================>.] - ETA: 0s - loss: 0.1205 - acc: 0.9589Epoch 1/30\n",
            "163/163 [==============================] - 92s 567ms/step - loss: 0.1203 - acc: 0.9588 - val_loss: 0.5116 - val_acc: 0.8814\n",
            "Epoch 20/30\n",
            "162/163 [============================>.] - ETA: 0s - loss: 0.1228 - acc: 0.9527Epoch 1/30\n",
            "163/163 [==============================] - 92s 567ms/step - loss: 0.1225 - acc: 0.9528 - val_loss: 0.2880 - val_acc: 0.8910\n",
            "Epoch 21/30\n",
            "162/163 [============================>.] - ETA: 0s - loss: 0.1285 - acc: 0.9541Epoch 1/30\n",
            "163/163 [==============================] - 92s 565ms/step - loss: 0.1282 - acc: 0.9544 - val_loss: 0.5651 - val_acc: 0.8798\n",
            "Epoch 22/30\n",
            "162/163 [============================>.] - ETA: 0s - loss: 0.1271 - acc: 0.9606Epoch 1/30\n",
            "163/163 [==============================] - 92s 563ms/step - loss: 0.1269 - acc: 0.9609 - val_loss: 0.5218 - val_acc: 0.8285\n",
            "Epoch 23/30\n",
            "162/163 [============================>.] - ETA: 0s - loss: 0.1145 - acc: 0.9597Epoch 1/30\n",
            "163/163 [==============================] - 91s 558ms/step - loss: 0.1145 - acc: 0.9595 - val_loss: 0.4188 - val_acc: 0.8045\n",
            "Epoch 24/30\n",
            "162/163 [============================>.] - ETA: 0s - loss: 0.1098 - acc: 0.9606Epoch 1/30\n",
            "163/163 [==============================] - 92s 563ms/step - loss: 0.1097 - acc: 0.9607 - val_loss: 0.8171 - val_acc: 0.7628\n",
            "Epoch 25/30\n",
            "162/163 [============================>.] - ETA: 0s - loss: 0.1232 - acc: 0.9525Epoch 1/30\n",
            "163/163 [==============================] - 92s 565ms/step - loss: 0.1227 - acc: 0.9526 - val_loss: 0.4574 - val_acc: 0.8862\n",
            "Epoch 26/30\n",
            "162/163 [============================>.] - ETA: 0s - loss: 0.1196 - acc: 0.9610Epoch 1/30\n",
            "163/163 [==============================] - 93s 569ms/step - loss: 0.1192 - acc: 0.9613 - val_loss: 0.3326 - val_acc: 0.9022\n",
            "Epoch 27/30\n",
            "162/163 [============================>.] - ETA: 0s - loss: 0.1094 - acc: 0.9614Epoch 1/30\n",
            "163/163 [==============================] - 91s 560ms/step - loss: 0.1095 - acc: 0.9615 - val_loss: 0.5153 - val_acc: 0.8093\n",
            "Epoch 28/30\n",
            "162/163 [============================>.] - ETA: 0s - loss: 0.1084 - acc: 0.9618Epoch 1/30\n",
            "163/163 [==============================] - 92s 565ms/step - loss: 0.1083 - acc: 0.9618 - val_loss: 0.7317 - val_acc: 0.8798\n",
            "Epoch 29/30\n",
            "162/163 [============================>.] - ETA: 0s - loss: 0.1138 - acc: 0.9610Epoch 1/30\n",
            "163/163 [==============================] - 93s 568ms/step - loss: 0.1138 - acc: 0.9611 - val_loss: 0.3240 - val_acc: 0.8750\n",
            "Epoch 30/30\n",
            "162/163 [============================>.] - ETA: 0s - loss: 0.1099 - acc: 0.9632Epoch 1/30\n",
            "163/163 [==============================] - 93s 572ms/step - loss: 0.1100 - acc: 0.9628 - val_loss: 0.5562 - val_acc: 0.8446\n"
          ],
          "name": "stdout"
        }
      ]
    },
    {
      "cell_type": "code",
      "metadata": {
        "id": "rtA-5tcpfb19",
        "colab_type": "code",
        "outputId": "05ea2582-a81d-45d0-b168-1c16b5a33b89",
        "colab": {
          "base_uri": "https://localhost:8080/",
          "height": 557
        }
      },
      "source": [
        "# Plot training & validation accuracy values\n",
        "plt.plot(history.history['acc'])\n",
        "plt.plot(history.history['val_acc'])\n",
        "plt.ylabel('Accuracy')\n",
        "plt.xlabel('Epoch')\n",
        "plt.legend(['Train', 'Test'], loc='upper left')\n",
        "plt.show()\n",
        "\n",
        "# Plot training & validation loss values\n",
        "plt.plot(history.history['loss'])\n",
        "plt.plot(history.history['val_loss'])\n",
        "plt.title('Model loss')\n",
        "plt.ylabel('Loss')\n",
        "plt.xlabel('Epoch')\n",
        "plt.legend(['Train', 'Test'], loc='upper left')\n",
        "plt.show()\n"
      ],
      "execution_count": 43,
      "outputs": [
        {
          "output_type": "display_data",
          "data": {
            "image/png": "[encoded data removed]",
            "text/plain": [
              "<Figure size 432x288 with 1 Axes>"
            ]
          },
          "metadata": {
            "tags": []
          }
        },
        {
          "output_type": "display_data",
          "data": {
            "image/png": "[encoded data removed]",
            "text/plain": [
              "<Figure size 432x288 with 1 Axes>"
            ]
          },
          "metadata": {
            "tags": []
          }
        }
      ]
    }
  ]
}